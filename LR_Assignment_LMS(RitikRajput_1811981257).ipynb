{
 "metadata": {
  "language_info": {
   "codemirror_mode": {
    "name": "ipython",
    "version": 3
   },
   "file_extension": ".py",
   "mimetype": "text/x-python",
   "name": "python",
   "nbconvert_exporter": "python",
   "pygments_lexer": "ipython3",
   "version": "3.9.1-final"
  },
  "orig_nbformat": 2,
  "kernelspec": {
   "name": "python3",
   "display_name": "Python 3.9.1 64-bit",
   "metadata": {
    "interpreter": {
     "hash": "4051e8eadf8c2a299d9df71a8017e9cacca732919f5007722f496d6d190820db"
    }
   }
  }
 },
 "nbformat": 4,
 "nbformat_minor": 2,
 "cells": [
  {
   "cell_type": "code",
   "execution_count": 1,
   "metadata": {},
   "outputs": [],
   "source": [
    "import pandas as pd\n",
    "import numpy as np"
   ]
  },
  {
   "cell_type": "code",
   "execution_count": 15,
   "metadata": {},
   "outputs": [],
   "source": [
    "path = 'D:/2021\\MachineLearning/Class Exercise/Logistic Regression/Logistic Dataset/xAPI-Edu-Data.csv'\n",
    "\n",
    "data = pd.read_csv(path)"
   ]
  },
  {
   "cell_type": "code",
   "execution_count": 16,
   "metadata": {},
   "outputs": [
    {
     "output_type": "execute_result",
     "data": {
      "text/plain": [
       "    gender NationalITy PlaceofBirth       StageID GradeID SectionID  \\\n",
       "0        M          KW       KuwaIT    lowerlevel    G-04         A   \n",
       "1        M          KW       KuwaIT    lowerlevel    G-04         A   \n",
       "2        M          KW       KuwaIT    lowerlevel    G-04         A   \n",
       "3        M          KW       KuwaIT    lowerlevel    G-04         A   \n",
       "4        M          KW       KuwaIT    lowerlevel    G-04         A   \n",
       "..     ...         ...          ...           ...     ...       ...   \n",
       "475      F      Jordan       Jordan  MiddleSchool    G-08         A   \n",
       "476      F      Jordan       Jordan  MiddleSchool    G-08         A   \n",
       "477      F      Jordan       Jordan  MiddleSchool    G-08         A   \n",
       "478      F      Jordan       Jordan  MiddleSchool    G-08         A   \n",
       "479      F      Jordan       Jordan  MiddleSchool    G-08         A   \n",
       "\n",
       "         Topic Semester Relation  raisedhands  VisITedResources  \\\n",
       "0           IT        F   Father           15                16   \n",
       "1           IT        F   Father           20                20   \n",
       "2           IT        F   Father           10                 7   \n",
       "3           IT        F   Father           30                25   \n",
       "4           IT        F   Father           40                50   \n",
       "..         ...      ...      ...          ...               ...   \n",
       "475  Chemistry        S   Father            5                 4   \n",
       "476    Geology        F   Father           50                77   \n",
       "477    Geology        S   Father           55                74   \n",
       "478    History        F   Father           30                17   \n",
       "479    History        S   Father           35                14   \n",
       "\n",
       "     AnnouncementsView  Discussion ParentAnsweringSurvey  \\\n",
       "0                    2          20                   Yes   \n",
       "1                    3          25                   Yes   \n",
       "2                    0          30                    No   \n",
       "3                    5          35                    No   \n",
       "4                   12          50                    No   \n",
       "..                 ...         ...                   ...   \n",
       "475                  5           8                    No   \n",
       "476                 14          28                    No   \n",
       "477                 25          29                    No   \n",
       "478                 14          57                    No   \n",
       "479                 23          62                    No   \n",
       "\n",
       "    ParentschoolSatisfaction StudentAbsenceDays Class  \n",
       "0                       Good            Under-7     M  \n",
       "1                       Good            Under-7     M  \n",
       "2                        Bad            Above-7     L  \n",
       "3                        Bad            Above-7     L  \n",
       "4                        Bad            Above-7     M  \n",
       "..                       ...                ...   ...  \n",
       "475                      Bad            Above-7     L  \n",
       "476                      Bad            Under-7     M  \n",
       "477                      Bad            Under-7     M  \n",
       "478                      Bad            Above-7     L  \n",
       "479                      Bad            Above-7     L  \n",
       "\n",
       "[480 rows x 17 columns]"
      ],
      "text/html": "<div>\n<style scoped>\n    .dataframe tbody tr th:only-of-type {\n        vertical-align: middle;\n    }\n\n    .dataframe tbody tr th {\n        vertical-align: top;\n    }\n\n    .dataframe thead th {\n        text-align: right;\n    }\n</style>\n<table border=\"1\" class=\"dataframe\">\n  <thead>\n    <tr style=\"text-align: right;\">\n      <th></th>\n      <th>gender</th>\n      <th>NationalITy</th>\n      <th>PlaceofBirth</th>\n      <th>StageID</th>\n      <th>GradeID</th>\n      <th>SectionID</th>\n      <th>Topic</th>\n      <th>Semester</th>\n      <th>Relation</th>\n      <th>raisedhands</th>\n      <th>VisITedResources</th>\n      <th>AnnouncementsView</th>\n      <th>Discussion</th>\n      <th>ParentAnsweringSurvey</th>\n      <th>ParentschoolSatisfaction</th>\n      <th>StudentAbsenceDays</th>\n      <th>Class</th>\n    </tr>\n  </thead>\n  <tbody>\n    <tr>\n      <th>0</th>\n      <td>M</td>\n      <td>KW</td>\n      <td>KuwaIT</td>\n      <td>lowerlevel</td>\n      <td>G-04</td>\n      <td>A</td>\n      <td>IT</td>\n      <td>F</td>\n      <td>Father</td>\n      <td>15</td>\n      <td>16</td>\n      <td>2</td>\n      <td>20</td>\n      <td>Yes</td>\n      <td>Good</td>\n      <td>Under-7</td>\n      <td>M</td>\n    </tr>\n    <tr>\n      <th>1</th>\n      <td>M</td>\n      <td>KW</td>\n      <td>KuwaIT</td>\n      <td>lowerlevel</td>\n      <td>G-04</td>\n      <td>A</td>\n      <td>IT</td>\n      <td>F</td>\n      <td>Father</td>\n      <td>20</td>\n      <td>20</td>\n      <td>3</td>\n      <td>25</td>\n      <td>Yes</td>\n      <td>Good</td>\n      <td>Under-7</td>\n      <td>M</td>\n    </tr>\n    <tr>\n      <th>2</th>\n      <td>M</td>\n      <td>KW</td>\n      <td>KuwaIT</td>\n      <td>lowerlevel</td>\n      <td>G-04</td>\n      <td>A</td>\n      <td>IT</td>\n      <td>F</td>\n      <td>Father</td>\n      <td>10</td>\n      <td>7</td>\n      <td>0</td>\n      <td>30</td>\n      <td>No</td>\n      <td>Bad</td>\n      <td>Above-7</td>\n      <td>L</td>\n    </tr>\n    <tr>\n      <th>3</th>\n      <td>M</td>\n      <td>KW</td>\n      <td>KuwaIT</td>\n      <td>lowerlevel</td>\n      <td>G-04</td>\n      <td>A</td>\n      <td>IT</td>\n      <td>F</td>\n      <td>Father</td>\n      <td>30</td>\n      <td>25</td>\n      <td>5</td>\n      <td>35</td>\n      <td>No</td>\n      <td>Bad</td>\n      <td>Above-7</td>\n      <td>L</td>\n    </tr>\n    <tr>\n      <th>4</th>\n      <td>M</td>\n      <td>KW</td>\n      <td>KuwaIT</td>\n      <td>lowerlevel</td>\n      <td>G-04</td>\n      <td>A</td>\n      <td>IT</td>\n      <td>F</td>\n      <td>Father</td>\n      <td>40</td>\n      <td>50</td>\n      <td>12</td>\n      <td>50</td>\n      <td>No</td>\n      <td>Bad</td>\n      <td>Above-7</td>\n      <td>M</td>\n    </tr>\n    <tr>\n      <th>...</th>\n      <td>...</td>\n      <td>...</td>\n      <td>...</td>\n      <td>...</td>\n      <td>...</td>\n      <td>...</td>\n      <td>...</td>\n      <td>...</td>\n      <td>...</td>\n      <td>...</td>\n      <td>...</td>\n      <td>...</td>\n      <td>...</td>\n      <td>...</td>\n      <td>...</td>\n      <td>...</td>\n      <td>...</td>\n    </tr>\n    <tr>\n      <th>475</th>\n      <td>F</td>\n      <td>Jordan</td>\n      <td>Jordan</td>\n      <td>MiddleSchool</td>\n      <td>G-08</td>\n      <td>A</td>\n      <td>Chemistry</td>\n      <td>S</td>\n      <td>Father</td>\n      <td>5</td>\n      <td>4</td>\n      <td>5</td>\n      <td>8</td>\n      <td>No</td>\n      <td>Bad</td>\n      <td>Above-7</td>\n      <td>L</td>\n    </tr>\n    <tr>\n      <th>476</th>\n      <td>F</td>\n      <td>Jordan</td>\n      <td>Jordan</td>\n      <td>MiddleSchool</td>\n      <td>G-08</td>\n      <td>A</td>\n      <td>Geology</td>\n      <td>F</td>\n      <td>Father</td>\n      <td>50</td>\n      <td>77</td>\n      <td>14</td>\n      <td>28</td>\n      <td>No</td>\n      <td>Bad</td>\n      <td>Under-7</td>\n      <td>M</td>\n    </tr>\n    <tr>\n      <th>477</th>\n      <td>F</td>\n      <td>Jordan</td>\n      <td>Jordan</td>\n      <td>MiddleSchool</td>\n      <td>G-08</td>\n      <td>A</td>\n      <td>Geology</td>\n      <td>S</td>\n      <td>Father</td>\n      <td>55</td>\n      <td>74</td>\n      <td>25</td>\n      <td>29</td>\n      <td>No</td>\n      <td>Bad</td>\n      <td>Under-7</td>\n      <td>M</td>\n    </tr>\n    <tr>\n      <th>478</th>\n      <td>F</td>\n      <td>Jordan</td>\n      <td>Jordan</td>\n      <td>MiddleSchool</td>\n      <td>G-08</td>\n      <td>A</td>\n      <td>History</td>\n      <td>F</td>\n      <td>Father</td>\n      <td>30</td>\n      <td>17</td>\n      <td>14</td>\n      <td>57</td>\n      <td>No</td>\n      <td>Bad</td>\n      <td>Above-7</td>\n      <td>L</td>\n    </tr>\n    <tr>\n      <th>479</th>\n      <td>F</td>\n      <td>Jordan</td>\n      <td>Jordan</td>\n      <td>MiddleSchool</td>\n      <td>G-08</td>\n      <td>A</td>\n      <td>History</td>\n      <td>S</td>\n      <td>Father</td>\n      <td>35</td>\n      <td>14</td>\n      <td>23</td>\n      <td>62</td>\n      <td>No</td>\n      <td>Bad</td>\n      <td>Above-7</td>\n      <td>L</td>\n    </tr>\n  </tbody>\n</table>\n<p>480 rows × 17 columns</p>\n</div>"
     },
     "metadata": {},
     "execution_count": 16
    }
   ],
   "source": [
    "\"\"\"data['gender'] = data['gender'].replace(['M','F'],[1,0])\n",
    "data['Semester'] = data['Semester'].replace(['F','S'],[1,0])\n",
    "data['Relation'] = data['Relation'].replace(['Father','Mum'],[1,0])\"\"\"\n",
    "data"
   ]
  },
  {
   "cell_type": "code",
   "execution_count": 4,
   "metadata": {},
   "outputs": [],
   "source": [
    "stageID = pd.get_dummies(data['StageID'], drop_first=True)\n",
    "gender = pd.get_dummies(data['gender'], drop_first=True)\n",
    "Semester = pd.get_dummies(data['Semester'], drop_first=True)\n",
    "Relation = pd.get_dummies(data['Relation'], drop_first=True)\n",
    "SectionID = pd.get_dummies(data['SectionID'], drop_first=True)\n",
    "ParentAnsweringSurvey = pd.get_dummies(data['ParentAnsweringSurvey'], drop_first=True)\n",
    "ParentschoolSatisfaction = pd.get_dummies(data['ParentschoolSatisfaction'], drop_first=True)\n",
    "class1 = pd.get_dummies(data['Class'], drop_first=True)\n",
    "StudentAbsenceDays = pd.get_dummies(data['StudentAbsenceDays'], drop_first=True)"
   ]
  },
  {
   "cell_type": "code",
   "execution_count": 5,
   "metadata": {},
   "outputs": [],
   "source": [
    "cols = list(data.columns)\n",
    "drop_cols = [i for i in cols if data[i].dtype == 'object']\n",
    "data.drop(drop_cols,axis=1,inplace=True)"
   ]
  },
  {
   "cell_type": "code",
   "execution_count": 6,
   "metadata": {},
   "outputs": [
    {
     "output_type": "execute_result",
     "data": {
      "text/plain": [
       "     raisedhands  VisITedResources  AnnouncementsView  Discussion\n",
       "0             15                16                  2          20\n",
       "1             20                20                  3          25\n",
       "2             10                 7                  0          30\n",
       "3             30                25                  5          35\n",
       "4             40                50                 12          50\n",
       "..           ...               ...                ...         ...\n",
       "475            5                 4                  5           8\n",
       "476           50                77                 14          28\n",
       "477           55                74                 25          29\n",
       "478           30                17                 14          57\n",
       "479           35                14                 23          62\n",
       "\n",
       "[480 rows x 4 columns]"
      ],
      "text/html": "<div>\n<style scoped>\n    .dataframe tbody tr th:only-of-type {\n        vertical-align: middle;\n    }\n\n    .dataframe tbody tr th {\n        vertical-align: top;\n    }\n\n    .dataframe thead th {\n        text-align: right;\n    }\n</style>\n<table border=\"1\" class=\"dataframe\">\n  <thead>\n    <tr style=\"text-align: right;\">\n      <th></th>\n      <th>raisedhands</th>\n      <th>VisITedResources</th>\n      <th>AnnouncementsView</th>\n      <th>Discussion</th>\n    </tr>\n  </thead>\n  <tbody>\n    <tr>\n      <th>0</th>\n      <td>15</td>\n      <td>16</td>\n      <td>2</td>\n      <td>20</td>\n    </tr>\n    <tr>\n      <th>1</th>\n      <td>20</td>\n      <td>20</td>\n      <td>3</td>\n      <td>25</td>\n    </tr>\n    <tr>\n      <th>2</th>\n      <td>10</td>\n      <td>7</td>\n      <td>0</td>\n      <td>30</td>\n    </tr>\n    <tr>\n      <th>3</th>\n      <td>30</td>\n      <td>25</td>\n      <td>5</td>\n      <td>35</td>\n    </tr>\n    <tr>\n      <th>4</th>\n      <td>40</td>\n      <td>50</td>\n      <td>12</td>\n      <td>50</td>\n    </tr>\n    <tr>\n      <th>...</th>\n      <td>...</td>\n      <td>...</td>\n      <td>...</td>\n      <td>...</td>\n    </tr>\n    <tr>\n      <th>475</th>\n      <td>5</td>\n      <td>4</td>\n      <td>5</td>\n      <td>8</td>\n    </tr>\n    <tr>\n      <th>476</th>\n      <td>50</td>\n      <td>77</td>\n      <td>14</td>\n      <td>28</td>\n    </tr>\n    <tr>\n      <th>477</th>\n      <td>55</td>\n      <td>74</td>\n      <td>25</td>\n      <td>29</td>\n    </tr>\n    <tr>\n      <th>478</th>\n      <td>30</td>\n      <td>17</td>\n      <td>14</td>\n      <td>57</td>\n    </tr>\n    <tr>\n      <th>479</th>\n      <td>35</td>\n      <td>14</td>\n      <td>23</td>\n      <td>62</td>\n    </tr>\n  </tbody>\n</table>\n<p>480 rows × 4 columns</p>\n</div>"
     },
     "metadata": {},
     "execution_count": 6
    }
   ],
   "source": [
    "data"
   ]
  },
  {
   "cell_type": "code",
   "execution_count": 7,
   "metadata": {},
   "outputs": [],
   "source": [
    "data = pd.concat([data,gender,stageID,Semester,Relation,SectionID,ParentAnsweringSurvey,ParentschoolSatisfaction,class1,StudentAbsenceDays],axis=1)"
   ]
  },
  {
   "cell_type": "code",
   "execution_count": 8,
   "metadata": {},
   "outputs": [
    {
     "output_type": "execute_result",
     "data": {
      "text/plain": [
       "     raisedhands  VisITedResources  AnnouncementsView  Discussion  M  \\\n",
       "0             15                16                  2          20  1   \n",
       "1             20                20                  3          25  1   \n",
       "2             10                 7                  0          30  1   \n",
       "3             30                25                  5          35  1   \n",
       "4             40                50                 12          50  1   \n",
       "..           ...               ...                ...         ... ..   \n",
       "475            5                 4                  5           8  0   \n",
       "476           50                77                 14          28  0   \n",
       "477           55                74                 25          29  0   \n",
       "478           30                17                 14          57  0   \n",
       "479           35                14                 23          62  0   \n",
       "\n",
       "     MiddleSchool  lowerlevel  S  Mum  B  C  Yes  Good  L  M  Under-7  \n",
       "0               0           1  0    0  0  0    1     1  0  1        1  \n",
       "1               0           1  0    0  0  0    1     1  0  1        1  \n",
       "2               0           1  0    0  0  0    0     0  1  0        0  \n",
       "3               0           1  0    0  0  0    0     0  1  0        0  \n",
       "4               0           1  0    0  0  0    0     0  0  1        0  \n",
       "..            ...         ... ..  ... .. ..  ...   ... .. ..      ...  \n",
       "475             1           0  1    0  0  0    0     0  1  0        0  \n",
       "476             1           0  0    0  0  0    0     0  0  1        1  \n",
       "477             1           0  1    0  0  0    0     0  0  1        1  \n",
       "478             1           0  0    0  0  0    0     0  1  0        0  \n",
       "479             1           0  1    0  0  0    0     0  1  0        0  \n",
       "\n",
       "[480 rows x 16 columns]"
      ],
      "text/html": "<div>\n<style scoped>\n    .dataframe tbody tr th:only-of-type {\n        vertical-align: middle;\n    }\n\n    .dataframe tbody tr th {\n        vertical-align: top;\n    }\n\n    .dataframe thead th {\n        text-align: right;\n    }\n</style>\n<table border=\"1\" class=\"dataframe\">\n  <thead>\n    <tr style=\"text-align: right;\">\n      <th></th>\n      <th>raisedhands</th>\n      <th>VisITedResources</th>\n      <th>AnnouncementsView</th>\n      <th>Discussion</th>\n      <th>M</th>\n      <th>MiddleSchool</th>\n      <th>lowerlevel</th>\n      <th>S</th>\n      <th>Mum</th>\n      <th>B</th>\n      <th>C</th>\n      <th>Yes</th>\n      <th>Good</th>\n      <th>L</th>\n      <th>M</th>\n      <th>Under-7</th>\n    </tr>\n  </thead>\n  <tbody>\n    <tr>\n      <th>0</th>\n      <td>15</td>\n      <td>16</td>\n      <td>2</td>\n      <td>20</td>\n      <td>1</td>\n      <td>0</td>\n      <td>1</td>\n      <td>0</td>\n      <td>0</td>\n      <td>0</td>\n      <td>0</td>\n      <td>1</td>\n      <td>1</td>\n      <td>0</td>\n      <td>1</td>\n      <td>1</td>\n    </tr>\n    <tr>\n      <th>1</th>\n      <td>20</td>\n      <td>20</td>\n      <td>3</td>\n      <td>25</td>\n      <td>1</td>\n      <td>0</td>\n      <td>1</td>\n      <td>0</td>\n      <td>0</td>\n      <td>0</td>\n      <td>0</td>\n      <td>1</td>\n      <td>1</td>\n      <td>0</td>\n      <td>1</td>\n      <td>1</td>\n    </tr>\n    <tr>\n      <th>2</th>\n      <td>10</td>\n      <td>7</td>\n      <td>0</td>\n      <td>30</td>\n      <td>1</td>\n      <td>0</td>\n      <td>1</td>\n      <td>0</td>\n      <td>0</td>\n      <td>0</td>\n      <td>0</td>\n      <td>0</td>\n      <td>0</td>\n      <td>1</td>\n      <td>0</td>\n      <td>0</td>\n    </tr>\n    <tr>\n      <th>3</th>\n      <td>30</td>\n      <td>25</td>\n      <td>5</td>\n      <td>35</td>\n      <td>1</td>\n      <td>0</td>\n      <td>1</td>\n      <td>0</td>\n      <td>0</td>\n      <td>0</td>\n      <td>0</td>\n      <td>0</td>\n      <td>0</td>\n      <td>1</td>\n      <td>0</td>\n      <td>0</td>\n    </tr>\n    <tr>\n      <th>4</th>\n      <td>40</td>\n      <td>50</td>\n      <td>12</td>\n      <td>50</td>\n      <td>1</td>\n      <td>0</td>\n      <td>1</td>\n      <td>0</td>\n      <td>0</td>\n      <td>0</td>\n      <td>0</td>\n      <td>0</td>\n      <td>0</td>\n      <td>0</td>\n      <td>1</td>\n      <td>0</td>\n    </tr>\n    <tr>\n      <th>...</th>\n      <td>...</td>\n      <td>...</td>\n      <td>...</td>\n      <td>...</td>\n      <td>...</td>\n      <td>...</td>\n      <td>...</td>\n      <td>...</td>\n      <td>...</td>\n      <td>...</td>\n      <td>...</td>\n      <td>...</td>\n      <td>...</td>\n      <td>...</td>\n      <td>...</td>\n      <td>...</td>\n    </tr>\n    <tr>\n      <th>475</th>\n      <td>5</td>\n      <td>4</td>\n      <td>5</td>\n      <td>8</td>\n      <td>0</td>\n      <td>1</td>\n      <td>0</td>\n      <td>1</td>\n      <td>0</td>\n      <td>0</td>\n      <td>0</td>\n      <td>0</td>\n      <td>0</td>\n      <td>1</td>\n      <td>0</td>\n      <td>0</td>\n    </tr>\n    <tr>\n      <th>476</th>\n      <td>50</td>\n      <td>77</td>\n      <td>14</td>\n      <td>28</td>\n      <td>0</td>\n      <td>1</td>\n      <td>0</td>\n      <td>0</td>\n      <td>0</td>\n      <td>0</td>\n      <td>0</td>\n      <td>0</td>\n      <td>0</td>\n      <td>0</td>\n      <td>1</td>\n      <td>1</td>\n    </tr>\n    <tr>\n      <th>477</th>\n      <td>55</td>\n      <td>74</td>\n      <td>25</td>\n      <td>29</td>\n      <td>0</td>\n      <td>1</td>\n      <td>0</td>\n      <td>1</td>\n      <td>0</td>\n      <td>0</td>\n      <td>0</td>\n      <td>0</td>\n      <td>0</td>\n      <td>0</td>\n      <td>1</td>\n      <td>1</td>\n    </tr>\n    <tr>\n      <th>478</th>\n      <td>30</td>\n      <td>17</td>\n      <td>14</td>\n      <td>57</td>\n      <td>0</td>\n      <td>1</td>\n      <td>0</td>\n      <td>0</td>\n      <td>0</td>\n      <td>0</td>\n      <td>0</td>\n      <td>0</td>\n      <td>0</td>\n      <td>1</td>\n      <td>0</td>\n      <td>0</td>\n    </tr>\n    <tr>\n      <th>479</th>\n      <td>35</td>\n      <td>14</td>\n      <td>23</td>\n      <td>62</td>\n      <td>0</td>\n      <td>1</td>\n      <td>0</td>\n      <td>1</td>\n      <td>0</td>\n      <td>0</td>\n      <td>0</td>\n      <td>0</td>\n      <td>0</td>\n      <td>1</td>\n      <td>0</td>\n      <td>0</td>\n    </tr>\n  </tbody>\n</table>\n<p>480 rows × 16 columns</p>\n</div>"
     },
     "metadata": {},
     "execution_count": 8
    }
   ],
   "source": [
    "data"
   ]
  },
  {
   "cell_type": "code",
   "execution_count": 9,
   "metadata": {},
   "outputs": [],
   "source": [
    "X = data.drop('Good', axis=1)\n",
    "y = data['Good']"
   ]
  },
  {
   "cell_type": "code",
   "execution_count": 10,
   "metadata": {},
   "outputs": [],
   "source": [
    "from sklearn.model_selection import train_test_split\n",
    "\n",
    "X_train,X_test,y_train,y_test=train_test_split(X,y,test_size=0.25,random_state=0)"
   ]
  },
  {
   "cell_type": "code",
   "execution_count": 11,
   "metadata": {},
   "outputs": [
    {
     "output_type": "stream",
     "name": "stdout",
     "text": [
      "[1 1 0 1 1 1 1 0 0 0 1 1 1 0 1 0 1 0 0 1 0 1 1 1 1 1 1 0 1 0 0 0 1 1 1 0 1\n 1 1 1 1 0 1 1 1 1 1 0 1 1 0 1 1 0 1 1 0 0 1 1 1 1 1 0 1 1 0 1 0 0 0 1 1 1\n 1 0 1 1 1 1 1 1 1 0 1 1 1 0 1 1 1 1 1 1 1 1 0 1 0 1 0 0 0 0 1 1 0 1 0 0 0\n 0 1 0 0 1 0 1 0 1]\n"
     ]
    }
   ],
   "source": [
    "from sklearn.linear_model import LogisticRegression\n",
    "\n",
    "# instantiate the model (using the default parameters)\n",
    "logreg = LogisticRegression()\n",
    "\n",
    "# fit the model with data\n",
    "logreg.fit(X_train,y_train)\n",
    "\n",
    "y_pred=logreg.predict(X_test)\n",
    "print(y_pred)"
   ]
  },
  {
   "cell_type": "code",
   "execution_count": 12,
   "metadata": {},
   "outputs": [
    {
     "output_type": "stream",
     "name": "stdout",
     "text": [
      "Accuracy: 0.7666666666666667\n"
     ]
    }
   ],
   "source": [
    "from sklearn import metrics\n",
    "\n",
    "print(\"Accuracy:\",metrics.accuracy_score(y_test, y_pred))"
   ]
  },
  {
   "cell_type": "code",
   "execution_count": 14,
   "metadata": {},
   "outputs": [
    {
     "output_type": "stream",
     "name": "stdout",
     "text": [
      "              precision    recall  f1-score   support\n\n           0       0.65      0.68      0.67        41\n           1       0.83      0.81      0.82        79\n\n    accuracy                           0.77       120\n   macro avg       0.74      0.75      0.74       120\nweighted avg       0.77      0.77      0.77       120\n\n"
     ]
    }
   ],
   "source": [
    "from sklearn.metrics import classification_report\n",
    "print(classification_report(y_test,y_pred))"
   ]
  },
  {
   "cell_type": "code",
   "execution_count": null,
   "metadata": {},
   "outputs": [],
   "source": []
  }
 ]
}